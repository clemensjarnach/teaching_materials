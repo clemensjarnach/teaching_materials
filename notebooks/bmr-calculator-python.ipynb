{
 "cells": [
  {
   "attachments": {},
   "cell_type": "markdown",
   "metadata": {},
   "source": [
    "# BMR and TDEE Calculator using Python\n",
    "\n",
    "## Background\n",
    "\n",
    "The Basal Metabolic Rate (BMR) is the number of calories you burn as your body performs basic life-sustaining functions. The Harris-Benedict Equation is often used to estimate basal metabolic rate (BMR), and this is the equation used...\n",
    "\n",
    "## BMR Calculator"
   ]
  },
  {
   "cell_type": "code",
   "execution_count": 4,
   "metadata": {},
   "outputs": [
    {
     "name": "stdout",
     "output_type": "stream",
     "text": [
      "Your BMR equals: 1993.28 kcal\n",
      "Your TDEE is: 2391.93 kcal\n"
     ]
    }
   ],
   "source": [
    "def calculateBMR():\n",
    "    sex = input(\"Enter your biological sex (male/female): \")\n",
    "    weight = float(input(\"Enter your weight in kg: \"))\n",
    "    height = float(input(\"Enter your height in cm: \"))\n",
    "    age = float(input(\"Enter your age in years: \"))\n",
    "\n",
    "    if sex == \"male\":\n",
    "        bmr = 88.362 + (13.397 * weight) + (4.799 * height) - (5.677 * age)\n",
    "    elif sex == \"female\":\n",
    "        bmr = 447.593 + (9.247 * weight) + (3.098 * height) - (4.330 * age)\n",
    "    else:\n",
    "        print(\"Invalid sex value\")\n",
    "        return\n",
    "\n",
    "    print(\"Your BMR equals: {:.2f} kcal\".format(bmr))\n",
    "\n",
    "    activity_levels = {\n",
    "        'Sedentary': 1.2,\n",
    "        'Lightly active': 1.375,\n",
    "        'Moderately active': 1.55,\n",
    "        'Very active': 1.725,\n",
    "        'Extra active': 1.9\n",
    "    }\n",
    "\n",
    "    activity_level = input(\"Enter your activity level (Sedentary/Lightly active/Moderately active/Very active/Extra active): \")\n",
    "\n",
    "    tdee = bmr * activity_levels.get(activity_level, None)\n",
    "    if tdee:\n",
    "        print(\"Your TDEE is: {:.2f} kcal\".format(tdee))\n",
    "    else:\n",
    "        print(\"Invalid activity level\")\n",
    "\n",
    "calculateBMR()\n"
   ]
  },
  {
   "attachments": {},
   "cell_type": "markdown",
   "metadata": {},
   "source": [
    "## A bit of background on...\n",
    "\n",
    "### BMR\n",
    "The Basal Metabolic Rate (BMR) is the number of calories you burn as your body performs basic life-sustaining functions. The Harris-Benedict Equation is often used to estimate basal metabolic rate (BMR), and this is the equation used for this calculator. However, you might want to consider a more recent and updated equation as the Harris-Benedict estimate tends to be a bit high or generous.\n",
    "\n",
    "Harris-Benedict BMR equation:\n",
    "\n",
    "Men: BMR = 88.362 + (13.397 x weight in kg) + (4.799 x height in cm) - (5.677 x age in years)\n",
    "Women: BMR = 447.593 + (9.247 x weight in kg) + (3.098 x height in cm) - (4.330 x age in years)\n",
    "\n",
    "### TDEE\n",
    "Total daily energy expenditure (TDEE) estimates how many calories your body burns daily by accounting for three contributing factors: the basal metabolic rate (BMR), the activity level and the thermic effect of food metabolism. To estimate the TDEE, we need to consider our activity level by multiplying the BMR with the appropriate activity level:\n",
    "\n",
    "Sedentary (little or no exercise)= BMR x 1.2\n",
    "Lightly active (light exercise/sports 1-3 days/week)= BMR x 1.375\n",
    "Moderately active (moderate exercise/sports 3-5 days/week)= BMR x 1.55\n",
    "Very active (hard exercise/sports 6-7 days a week)= BMR x 1.725\n",
    "Extra active (very hard exercise/sports & a physical job)= BMR x 1.9"
   ]
  }
 ],
 "metadata": {
  "kernelspec": {
   "display_name": "base",
   "language": "python",
   "name": "python3"
  },
  "language_info": {
   "codemirror_mode": {
    "name": "ipython",
    "version": 3
   },
   "file_extension": ".py",
   "mimetype": "text/x-python",
   "name": "python",
   "nbconvert_exporter": "python",
   "pygments_lexer": "ipython3",
   "version": "3.9.7"
  },
  "orig_nbformat": 4,
  "vscode": {
   "interpreter": {
    "hash": "e092955e1a1b1a2f7a8b51520666650835e009b20f9c23ceb523ee5a48e66295"
   }
  }
 },
 "nbformat": 4,
 "nbformat_minor": 2
}
